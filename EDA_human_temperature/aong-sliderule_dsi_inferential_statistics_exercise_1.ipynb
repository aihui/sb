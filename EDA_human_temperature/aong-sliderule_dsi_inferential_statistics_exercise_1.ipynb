{
 "cells": [
  {
   "cell_type": "markdown",
   "metadata": {},
   "source": [
    "# What is the True Normal Human Body Temperature? \n",
    "\n",
    "#### Background\n",
    "\n",
    "The mean normal body temperature was held to be 37$^{\\circ}$C or 98.6$^{\\circ}$F for more than 120 years since it was first conceptualized and reported by Carl Wunderlich in a famous 1868 book. But, is this value statistically correct?"
   ]
  },
  {
   "cell_type": "markdown",
   "metadata": {},
   "source": [
    "<h3>Exercises</h3>\n",
    "\n",
    "<p>In this exercise, you will analyze a dataset of human body temperatures and employ the concepts of hypothesis testing, confidence intervals, and statistical significance.</p>\n",
    "\n",
    "<p>Answer the following questions <b>in this notebook below and submit to your Github account</b>.</p> \n",
    "\n",
    "<ol>\n",
    "<li>  Is the distribution of body temperatures normal? \n",
    "    <ul>\n",
    "    <li> Although this is not a requirement for the Central Limit Theorem to hold (read the introduction on Wikipedia's page about the CLT carefully: https://en.wikipedia.org/wiki/Central_limit_theorem), it gives us some peace of mind that the population may also be normally distributed if we assume that this sample is representative of the population.\n",
    "    <li> Think about the way you're going to check for the normality of the distribution. Graphical methods are usually used first, but there are also other ways: https://en.wikipedia.org/wiki/Normality_test\n",
    "    </ul>\n",
    "<li>  Is the sample size large? Are the observations independent?\n",
    "    <ul>\n",
    "    <li> Remember that this is a condition for the Central Limit Theorem, and hence the statistical tests we are using, to apply.\n",
    "    </ul>\n",
    "<li>  Is the true population mean really 98.6 degrees F?\n",
    "    <ul>\n",
    "    <li> First, try a bootstrap hypothesis test.\n",
    "    <li> Now, let's try frequentist statistical testing. Would you use a one-sample or two-sample test? Why?\n",
    "    <li> In this situation, is it appropriate to use the $t$ or $z$ statistic? \n",
    "    <li> Now try using the other test. How is the result be different? Why?\n",
    "    </ul>\n",
    "<li>  Draw a small sample of size 10 from the data and repeat both frequentist tests. \n",
    "    <ul>\n",
    "    <li> Which one is the correct one to use? \n",
    "    <li> What do you notice? What does this tell you about the difference in application of the $t$ and $z$ statistic?\n",
    "    </ul>\n",
    "<li>  At what temperature should we consider someone's temperature to be \"abnormal\"?\n",
    "    <ul>\n",
    "    <li> As in the previous example, try calculating everything using the boostrap approach, as well as the frequentist approach.\n",
    "    <li> Start by computing the margin of error and confidence interval. When calculating the confidence interval, keep in mind that you should use the appropriate formula for one draw, and not N draws.\n",
    "    </ul>\n",
    "<li>  Is there a significant difference between males and females in normal temperature?\n",
    "    <ul>\n",
    "    <li> What testing approach did you use and why?\n",
    "    <li> Write a story with your conclusion in the context of the original problem.\n",
    "    </ul>\n",
    "</ol>\n",
    "\n",
    "You can include written notes in notebook cells using Markdown: \n",
    "   - In the control panel at the top, choose Cell > Cell Type > Markdown\n",
    "   - Markdown syntax: http://nestacms.com/docs/creating-content/markdown-cheat-sheet\n",
    "\n",
    "#### Resources\n",
    "\n",
    "+ Information and data sources: http://www.amstat.org/publications/jse/datasets/normtemp.txt, http://www.amstat.org/publications/jse/jse_data_archive.htm\n",
    "+ Markdown syntax: http://nestacms.com/docs/creating-content/markdown-cheat-sheet\n",
    "\n",
    "****"
   ]
  },
  {
   "cell_type": "code",
   "execution_count": 69,
   "metadata": {},
   "outputs": [],
   "source": [
    "import pandas as pd\n",
    "import numpy as np\n",
    "import math\n",
    "import matplotlib.pyplot as plt\n",
    "import seaborn as sns\n",
    "sns.set\n",
    "%matplotlib inline\n",
    "import warnings\n",
    "warnings.filterwarnings('ignore') #this would remove any deprecated warning"
   ]
  },
  {
   "cell_type": "markdown",
   "metadata": {
    "collapsed": true
   },
   "source": [
    "# Load Data"
   ]
  },
  {
   "cell_type": "code",
   "execution_count": 58,
   "metadata": {},
   "outputs": [
    {
     "name": "stdout",
     "output_type": "stream",
     "text": [
      "Data: (130, 3)\n"
     ]
    }
   ],
   "source": [
    "df = pd.read_csv('data/human_body_temperature.csv')\n",
    "print(\"Data: \" + str(df.shape))"
   ]
  },
  {
   "cell_type": "code",
   "execution_count": 59,
   "metadata": {},
   "outputs": [
    {
     "name": "stdout",
     "output_type": "stream",
     "text": [
      "<class 'pandas.core.frame.DataFrame'>\n",
      "RangeIndex: 130 entries, 0 to 129\n",
      "Data columns (total 3 columns):\n",
      "temperature    130 non-null float64\n",
      "gender         130 non-null object\n",
      "heart_rate     130 non-null float64\n",
      "dtypes: float64(2), object(1)\n",
      "memory usage: 3.1+ KB\n"
     ]
    }
   ],
   "source": [
    "df.info()"
   ]
  },
  {
   "cell_type": "markdown",
   "metadata": {},
   "source": [
    "The above shows that the data set has 3 columns and 130 rows of observations. There are no null values in any of the columns."
   ]
  },
  {
   "cell_type": "code",
   "execution_count": 60,
   "metadata": {},
   "outputs": [
    {
     "data": {
      "text/html": [
       "<div>\n",
       "<style scoped>\n",
       "    .dataframe tbody tr th:only-of-type {\n",
       "        vertical-align: middle;\n",
       "    }\n",
       "\n",
       "    .dataframe tbody tr th {\n",
       "        vertical-align: top;\n",
       "    }\n",
       "\n",
       "    .dataframe thead th {\n",
       "        text-align: right;\n",
       "    }\n",
       "</style>\n",
       "<table border=\"1\" class=\"dataframe\">\n",
       "  <thead>\n",
       "    <tr style=\"text-align: right;\">\n",
       "      <th></th>\n",
       "      <th>temperature</th>\n",
       "      <th>gender</th>\n",
       "      <th>heart_rate</th>\n",
       "    </tr>\n",
       "  </thead>\n",
       "  <tbody>\n",
       "    <tr>\n",
       "      <th>0</th>\n",
       "      <td>99.3</td>\n",
       "      <td>F</td>\n",
       "      <td>68.0</td>\n",
       "    </tr>\n",
       "    <tr>\n",
       "      <th>1</th>\n",
       "      <td>98.4</td>\n",
       "      <td>F</td>\n",
       "      <td>81.0</td>\n",
       "    </tr>\n",
       "    <tr>\n",
       "      <th>2</th>\n",
       "      <td>97.8</td>\n",
       "      <td>M</td>\n",
       "      <td>73.0</td>\n",
       "    </tr>\n",
       "    <tr>\n",
       "      <th>3</th>\n",
       "      <td>99.2</td>\n",
       "      <td>F</td>\n",
       "      <td>66.0</td>\n",
       "    </tr>\n",
       "    <tr>\n",
       "      <th>4</th>\n",
       "      <td>98.0</td>\n",
       "      <td>F</td>\n",
       "      <td>73.0</td>\n",
       "    </tr>\n",
       "  </tbody>\n",
       "</table>\n",
       "</div>"
      ],
      "text/plain": [
       "   temperature gender  heart_rate\n",
       "0         99.3      F        68.0\n",
       "1         98.4      F        81.0\n",
       "2         97.8      M        73.0\n",
       "3         99.2      F        66.0\n",
       "4         98.0      F        73.0"
      ]
     },
     "execution_count": 60,
     "metadata": {},
     "output_type": "execute_result"
    }
   ],
   "source": [
    "df.head()"
   ]
  },
  {
   "cell_type": "code",
   "execution_count": 61,
   "metadata": {},
   "outputs": [
    {
     "data": {
      "text/plain": [
       "count    130.000000\n",
       "mean      98.249231\n",
       "std        0.733183\n",
       "min       96.300000\n",
       "25%       97.800000\n",
       "50%       98.300000\n",
       "75%       98.700000\n",
       "max      100.800000\n",
       "Name: temperature, dtype: float64"
      ]
     },
     "execution_count": 61,
     "metadata": {},
     "output_type": "execute_result"
    }
   ],
   "source": [
    "df['temperature'].describe()"
   ]
  },
  {
   "cell_type": "code",
   "execution_count": 62,
   "metadata": {},
   "outputs": [
    {
     "data": {
      "image/png": "[encoded data removed]",
      "text/plain": [
       "<Figure size 432x288 with 1 Axes>"
      ]
     },
     "metadata": {},
     "output_type": "display_data"
    }
   ],
   "source": [
    "_ = plt.hist(df['temperature'])\n",
    "_ = plt.xlabel('percent')\n",
    "_ = plt.ylabel('count')\n",
    "plt.show()"
   ]
  },
  {
   "cell_type": "code",
   "execution_count": 63,
   "metadata": {},
   "outputs": [
    {
     "data": {
      "image/png": "[encoded data removed]",
      "text/plain": [
       "<Figure size 432x288 with 1 Axes>"
      ]
     },
     "metadata": {},
     "output_type": "display_data"
    }
   ],
   "source": [
    "sns.distplot(df['temperature'], bins=20)\n",
    "plt.show()"
   ]
  },
  {
   "cell_type": "markdown",
   "metadata": {},
   "source": [
    "Looking at both histogram above, it looks like the graph follows a normal distribution. It has a single peak.\n",
    "\n",
    "**QUESTION:** Which plot above is better? Can we tell normal distribution right away?"
   ]
  },
  {
   "cell_type": "markdown",
   "metadata": {},
   "source": [
    "# Making an ECDF (Empirical Cumulative Distribution Function)"
   ]
  },
  {
   "cell_type": "code",
   "execution_count": 64,
   "metadata": {},
   "outputs": [],
   "source": [
    "def ecdf(data):\n",
    "    \"\"\"Compute ECDF for a one-dimensional array of measurements\"\"\"\n",
    "    \n",
    "    # Number of data points: n\n",
    "    n = len(data)\n",
    "    \n",
    "    # x-data for the ECDF: x\n",
    "    x = np.sort(data)\n",
    "    \n",
    "    # y-data for the ECDF: y\n",
    "    y = np.arange(1, n+1) / n\n",
    "    \n",
    "    return x, y"
   ]
  },
  {
   "cell_type": "code",
   "execution_count": 65,
   "metadata": {},
   "outputs": [
    {
     "data": {
      "image/png": "[encoded data removed]",
      "text/plain": [
       "<Figure size 432x288 with 1 Axes>"
      ]
     },
     "metadata": {},
     "output_type": "display_data"
    }
   ],
   "source": [
    "x, y = ecdf(df['temperature'])\n",
    "_ = plt.plot(x, y, marker=\".\", linestyle=\"none\")\n",
    "_ = plt.xlabel(\"Body Temperature (F)\")\n",
    "_ = plt.ylabel(\"CDF\")"
   ]
  },
  {
   "cell_type": "markdown",
   "metadata": {},
   "source": [
    "# Use Bootstrapping to Generate 10,000 Temperatures that Follow a Normal Distribution"
   ]
  },
  {
   "cell_type": "code",
   "execution_count": 78,
   "metadata": {},
   "outputs": [
    {
     "data": {
      "image/png": "[encoded data removed]",
      "text/plain": [
       "<Figure size 576x504 with 1 Axes>"
      ]
     },
     "metadata": {},
     "output_type": "display_data"
    }
   ],
   "source": [
    "x, y = ecdf(df['temperature'])\n",
    "plt.figure(figsize=(8,7))\n",
    "_ = plt.plot(x, y, marker=\".\", linestyle=\"none\", color='green')\n",
    "_ = plt.xlabel(\"Body Temperature (F)\")\n",
    "_ = plt.ylabel(\"CDF\")\n",
    "\n",
    "mean = np.mean(df['temperature'])\n",
    "std = np.std(df['temperature'])\n",
    "samples = np.random.normal(mean, std, size=10000)\n",
    "x_theor, y_theor = ecdf(samples)\n",
    "_ = plt.plot(x_theor, y_theor, marker=\".\", linestyle=\"none\", color='red')\n",
    "_ = plt.legend(('Empirical Data using actual data', 'Normal Distribution using Sample'), loc='lower right')"
   ]
  },
  {
   "cell_type": "markdown",
   "metadata": {},
   "source": [
    "# Answer to Question 1: Is the distribution of body temperatures normal?\n",
    "\n",
    "Based on the chart above, the temperate data set is very close to the normal distribution CDF. Hence we can conclude that the distribution of body temperatures **is normal**.\n",
    "\n"
   ]
  },
  {
   "cell_type": "markdown",
   "metadata": {},
   "source": [
    "# Question 2: Is the sample size large? Are the observations independent?"
   ]
  },
  {
   "cell_type": "markdown",
   "metadata": {},
   "source": [
    "* The sample size has 130 observations. It's large enough to produce a normal distribution.\n",
    "* It's random. The dataset is randomly picked. There's no indication that the observations were not random.\n",
    "* It's independent. There no indication that the data is bein replaced after being picked.\n",
    "* Since we do not know the population mean and standard deviation, we'll use the sample mean, standard deviation and T table to calculate the statistics."
   ]
  },
  {
   "cell_type": "markdown",
   "metadata": {},
   "source": [
    "# Question 3: Is the true population mean really 98.6 degrees F?\n",
    "* First, try a bootstrap hypothesis test.\n",
    "* Now, let's try frequentist statistical testing. Would you use a one-sample or two-sample test? Why?\n",
    "* In this situation, is it appropriate to use the  tt  or  zz  statistic?\n",
    "* Now try using the other test. How is the result be different? Why?"
   ]
  },
  {
   "cell_type": "markdown",
   "metadata": {},
   "source": [
    "## Using Bootstrapping Method"
   ]
  },
  {
   "cell_type": "code",
   "execution_count": 67,
   "metadata": {},
   "outputs": [
    {
     "name": "stdout",
     "output_type": "stream",
     "text": [
      "----- BOOTSTRAPPING METHOD RESULTS -----\n",
      "The bootstrap replicate mean is: 98.25002692307693\n",
      "95% confidence interval of body temperate is: [98.12230769 98.37769231]\n"
     ]
    }
   ],
   "source": [
    "# Use bootstrapping to resample data to perform statistical inference\n",
    "# Bootstrap sample - a resampled array of the data\n",
    "# Bootstrap replicate - a statistic computed from the resampled array, e.g. mean\n",
    "\n",
    "# Function to resample data and calculate the mean or std dev, whatever it passed into func\n",
    "def bootstrap_replicate_1D_data(data, func):\n",
    "    \"\"\"Generate bootstrap replicate of 1D data\"\"\"\n",
    "    bs_sample = np.random.choice(data, len(data))\n",
    "    return func(bs_sample) #func can be mean, std dev etc\n",
    "\n",
    "# function to calculate bootstrap replicate N times\n",
    "def calc_bootstrap_replicate_n_times(data, func, size=1):\n",
    "    \"\"\"Draw from bootstrap replicate\"\"\"\n",
    "    \n",
    "    # initialize array of replicates\n",
    "    bs_replicates = np.empty(size)\n",
    "    \n",
    "    # generate replicates\n",
    "    for i in range(size):\n",
    "        bs_replicates[i] = bootstrap_replicate_1D_data(data, func)\n",
    "    \n",
    "    #return bs_replicates array\n",
    "    return bs_replicates\n",
    "\n",
    "# Calculate 10,000 bootstrap replicates mean\n",
    "bs_replicates = calc_bootstrap_replicate_n_times(df['temperature'], np.mean, 10000)\n",
    "bs_mean = np.mean(bs_replicates)\n",
    "\n",
    "# Compute the 95% confidence interval\n",
    "bs_conf_interval = np.percentile(bs_replicates, [2.5, 97.5])\n",
    "\n",
    "print(\"----- BOOTSTRAPPING METHOD RESULTS -----\")\n",
    "print('The bootstrap replicate mean is: ' + str(bs_mean))\n",
    "print('95% confidence interval of body temperate is: ' + str(bs_conf_interval))"
   ]
  },
  {
   "cell_type": "markdown",
   "metadata": {},
   "source": [
    "## Using Frequentist Statistical Testing Method"
   ]
  },
  {
   "cell_type": "markdown",
   "metadata": {},
   "source": [
    "*Null Hypothesis* - the true population mean is 98.6F\n",
    "\n",
    "*Alternative Hypothesis* - the true population mean is NOT 98.6F\n",
    "\n",
    "*One-sample* - One sample test should be used to test significance of the result because the there's only 1 group of data\n",
    "\n",
    "*Z Test* - Use z-test because the sample size is greater than 30."
   ]
  },
  {
   "cell_type": "code",
   "execution_count": 80,
   "metadata": {},
   "outputs": [
    {
     "name": "stdout",
     "output_type": "stream",
     "text": [
      "Mean of temperate: 98.24923076923078\n",
      "Standard deviation of temperature is: 0.7303577789050377\n"
     ]
    }
   ],
   "source": [
    "#z score\n",
    "print('Mean of temperate: ' + str(mean))\n",
    "print('Standard deviation of temperature is: ' + str(std))"
   ]
  },
  {
   "cell_type": "markdown",
   "metadata": {},
   "source": [
    "For a 95% confidence interval, using the z table, look up 0.975 and the z score is 0.06."
   ]
  },
  {
   "cell_type": "code",
   "execution_count": 88,
   "metadata": {},
   "outputs": [
    {
     "name": "stdout",
     "output_type": "stream",
     "text": [
      "Confident 95% chance that P (population mean) is within 0.06 of the sample mean: 98.18923076923078 and 98.30923076923078\n"
     ]
    }
   ],
   "source": [
    "print('Confident 95% chance that P (population mean) is within 0.06 of the sample mean: ' + str(mean - 0.06) + ' and ' + str(mean + 0.06))"
   ]
  },
  {
   "cell_type": "markdown",
   "metadata": {},
   "source": [
    "# Conclusion to Question 3\n",
    "Looks like using the bootstrapping method vs the frequentist statistical testing method produce very similar results. In both cases, the TRUE population mean doesn't fall within the 95% confidence interval range. Hence the true population mean is not 98.6F."
   ]
  },
  {
   "cell_type": "markdown",
   "metadata": {},
   "source": [
    "# Question 4: Draw a small sample of size 10 from the data and repeat both frequentist tests.\n",
    "* Which one is the correct one to use?\n",
    "* What do you notice? What does this tell you about the difference in application of the  tt  and  zz  statistic?"
   ]
  },
  {
   "cell_type": "code",
   "execution_count": 95,
   "metadata": {},
   "outputs": [
    {
     "data": {
      "text/html": [
       "<div>\n",
       "<style scoped>\n",
       "    .dataframe tbody tr th:only-of-type {\n",
       "        vertical-align: middle;\n",
       "    }\n",
       "\n",
       "    .dataframe tbody tr th {\n",
       "        vertical-align: top;\n",
       "    }\n",
       "\n",
       "    .dataframe thead th {\n",
       "        text-align: right;\n",
       "    }\n",
       "</style>\n",
       "<table border=\"1\" class=\"dataframe\">\n",
       "  <thead>\n",
       "    <tr style=\"text-align: right;\">\n",
       "      <th></th>\n",
       "      <th>temperature</th>\n",
       "      <th>gender</th>\n",
       "      <th>heart_rate</th>\n",
       "    </tr>\n",
       "  </thead>\n",
       "  <tbody>\n",
       "    <tr>\n",
       "      <th>123</th>\n",
       "      <td>97.2</td>\n",
       "      <td>F</td>\n",
       "      <td>66.0</td>\n",
       "    </tr>\n",
       "    <tr>\n",
       "      <th>36</th>\n",
       "      <td>99.1</td>\n",
       "      <td>M</td>\n",
       "      <td>71.0</td>\n",
       "    </tr>\n",
       "    <tr>\n",
       "      <th>0</th>\n",
       "      <td>99.3</td>\n",
       "      <td>F</td>\n",
       "      <td>68.0</td>\n",
       "    </tr>\n",
       "    <tr>\n",
       "      <th>79</th>\n",
       "      <td>97.6</td>\n",
       "      <td>M</td>\n",
       "      <td>74.0</td>\n",
       "    </tr>\n",
       "    <tr>\n",
       "      <th>31</th>\n",
       "      <td>97.6</td>\n",
       "      <td>F</td>\n",
       "      <td>61.0</td>\n",
       "    </tr>\n",
       "    <tr>\n",
       "      <th>9</th>\n",
       "      <td>98.6</td>\n",
       "      <td>F</td>\n",
       "      <td>86.0</td>\n",
       "    </tr>\n",
       "    <tr>\n",
       "      <th>113</th>\n",
       "      <td>99.1</td>\n",
       "      <td>F</td>\n",
       "      <td>74.0</td>\n",
       "    </tr>\n",
       "    <tr>\n",
       "      <th>110</th>\n",
       "      <td>98.8</td>\n",
       "      <td>F</td>\n",
       "      <td>69.0</td>\n",
       "    </tr>\n",
       "    <tr>\n",
       "      <th>46</th>\n",
       "      <td>97.4</td>\n",
       "      <td>M</td>\n",
       "      <td>72.0</td>\n",
       "    </tr>\n",
       "    <tr>\n",
       "      <th>128</th>\n",
       "      <td>97.9</td>\n",
       "      <td>M</td>\n",
       "      <td>72.0</td>\n",
       "    </tr>\n",
       "  </tbody>\n",
       "</table>\n",
       "</div>"
      ],
      "text/plain": [
       "     temperature gender  heart_rate\n",
       "123         97.2      F        66.0\n",
       "36          99.1      M        71.0\n",
       "0           99.3      F        68.0\n",
       "79          97.6      M        74.0\n",
       "31          97.6      F        61.0\n",
       "9           98.6      F        86.0\n",
       "113         99.1      F        74.0\n",
       "110         98.8      F        69.0\n",
       "46          97.4      M        72.0\n",
       "128         97.9      M        72.0"
      ]
     },
     "execution_count": 95,
     "metadata": {},
     "output_type": "execute_result"
    }
   ],
   "source": [
    "# Draw a small sample size of 10\n",
    "df10 = df.sample(10)\n",
    "df10"
   ]
  },
  {
   "cell_type": "markdown",
   "metadata": {},
   "source": [
    "## Using the Bootstrapping Method"
   ]
  },
  {
   "cell_type": "code",
   "execution_count": 96,
   "metadata": {},
   "outputs": [
    {
     "name": "stdout",
     "output_type": "stream",
     "text": [
      "----- BOOTSTRAPPING METHOD RESULTS -----\n",
      "The bootstrap replicate mean is: 98.262418\n",
      "95% confidence interval of body temperate is: [97.8  98.73]\n"
     ]
    }
   ],
   "source": [
    "# Calculate 10,000 bootstrap replicates mean\n",
    "bs_replicates = calc_bootstrap_replicate_n_times(df10['temperature'], np.mean, 10000)\n",
    "bs_mean = np.mean(bs_replicates)\n",
    "\n",
    "# Compute the 95% confidence interval\n",
    "bs_conf_interval = np.percentile(bs_replicates, [2.5, 97.5])\n",
    "\n",
    "print(\"----- BOOTSTRAPPING METHOD RESULTS -----\")\n",
    "print('The bootstrap replicate mean is: ' + str(bs_mean))\n",
    "print('95% confidence interval of body temperate is: ' + str(bs_conf_interval))"
   ]
  },
  {
   "cell_type": "markdown",
   "metadata": {},
   "source": [
    "## Using Frequentist Statistical Testing Method Using T-score"
   ]
  },
  {
   "cell_type": "code",
   "execution_count": 98,
   "metadata": {},
   "outputs": [
    {
     "name": "stdout",
     "output_type": "stream",
     "text": [
      "Mean of temperate: 98.26\n",
      "Standard deviation of temperature is: 0.7592101158440898\n"
     ]
    }
   ],
   "source": [
    "mean10 = np.mean(df10['temperature'])\n",
    "std10 = np.std(df10['temperature'])\n",
    "print('Mean of temperate: ' + str(mean10))\n",
    "print('Standard deviation of temperature is: ' + str(std10))"
   ]
  },
  {
   "cell_type": "markdown",
   "metadata": {},
   "source": [
    "For a 95% confidence interval, using the z table, look up 0.025 with degree of freedom = 9. The t-value = 2.262."
   ]
  },
  {
   "cell_type": "code",
   "execution_count": 114,
   "metadata": {},
   "outputs": [
    {
     "name": "stdout",
     "output_type": "stream",
     "text": [
      "----- Using Frequentist Statistical Testing Method -----\n",
      "95% confidence interval of body temperate is: 95.75791668112925 and 100.76208331887076\n"
     ]
    }
   ],
   "source": [
    "print(\"----- Using Frequentist Statistical Testing Method -----\")\n",
    "print('95% confidence interval of body temperate is: ' + str(mean10 - (2.262 + std10/math.sqrt(len(df10)))) + ' and ' + str(mean10 + (2.262 + std10/math.sqrt(len(df10)))))"
   ]
  },
  {
   "cell_type": "markdown",
   "metadata": {},
   "source": [
    "## Question 4 Conclusion\n",
    "For a sample size of 10, both bootstrapping method and frequentist Statistical Testing Method using t-score produced very different results. The results were more similar when a z-score was used."
   ]
  },
  {
   "cell_type": "markdown",
   "metadata": {},
   "source": [
    "# Question 5: At what temperature should we consider someone's temperature to be \"abnormal\"?\n",
    "* As in the previous example, try calculating everything using the boostrap approach, as well as the frequentist approach.\n",
    "* Start by computing the margin of error and confidence interval. When calculating the confidence interval, keep in mind that you should use the appropriate formula for one draw, and not N draws.\n",
    "\n",
    "Formula\n",
    "---------\n",
    "* Margin of Error = Critical value * Standard Error\n",
    "* Standard Error = Standard Deviation / sq root of sample size"
   ]
  },
  {
   "cell_type": "markdown",
   "metadata": {},
   "source": [
    "## Using the Bootstrapping Method"
   ]
  },
  {
   "cell_type": "code",
   "execution_count": 126,
   "metadata": {},
   "outputs": [
    {
     "name": "stdout",
     "output_type": "stream",
     "text": [
      "----- BOOTSTRAPPING METHOD RESULTS -----\n",
      "The bootstrap replicate mean is: 98.25769230769231\n",
      "95% confidence interval of body temperate is: [98.25769231 98.25769231]\n"
     ]
    }
   ],
   "source": [
    "# Calculate 1 bootstrap replicates mean\n",
    "bs_replicates = calc_bootstrap_replicate_n_times(df['temperature'], np.mean, 1)\n",
    "bs_mean = np.mean(bs_replicates)\n",
    "\n",
    "# Compute the 95% confidence interval\n",
    "bs_conf_interval = np.percentile(bs_replicates, [2.5, 97.5])\n",
    "\n",
    "print(\"----- BOOTSTRAPPING METHOD RESULTS -----\")\n",
    "print('The bootstrap replicate mean is: ' + str(bs_mean))\n",
    "print('95% confidence interval of body temperate is: ' + str(bs_conf_interval))"
   ]
  },
  {
   "cell_type": "markdown",
   "metadata": {},
   "source": [
    "## Using Frequentist Statistical Testing Method Using Z-score"
   ]
  },
  {
   "cell_type": "code",
   "execution_count": 119,
   "metadata": {},
   "outputs": [],
   "source": [
    "std = np.std(df['temperature'])\n",
    "mean = np.mean(df['temperature'])\n",
    "n = len(df)\n",
    "std_error = std / math.sqrt(n)"
   ]
  },
  {
   "cell_type": "markdown",
   "metadata": {},
   "source": [
    "Use Z Score. Assume 95% confidence interval.\n",
    "* α = 100% -95% = 5%\n",
    "* Divide α/2 = 0.05/2 = 0.025\n",
    "* Substract α/2 from 1 = 0.975 (use this to look up critical value in the z table)\n",
    "* Critical value is 1.96\n"
   ]
  },
  {
   "cell_type": "code",
   "execution_count": 121,
   "metadata": {},
   "outputs": [
    {
     "name": "stdout",
     "output_type": "stream",
     "text": [
      "Margin of Error is: 0.125550964802579\n"
     ]
    }
   ],
   "source": [
    "margin_of_error = 1.96 * std_error\n",
    "print('Margin of Error is: ' + str(margin_of_error))"
   ]
  },
  {
   "cell_type": "code",
   "execution_count": 127,
   "metadata": {},
   "outputs": [
    {
     "name": "stdout",
     "output_type": "stream",
     "text": [
      "---- Frequentist Statistical Testing Method Results ----\n",
      "95% confidence interval for the mean human temperate is between 98.12367980442819 and 98.37478173403336\n"
     ]
    }
   ],
   "source": [
    "print('---- Frequentist Statistical Testing Method Results ----')\n",
    "print('95% confidence interval for the mean human temperate is between ' + str(mean - margin_of_error) + ' and ' + str(mean + margin_of_error))"
   ]
  },
  {
   "cell_type": "markdown",
   "metadata": {},
   "source": [
    "## Question 5 Conclusion\n",
    "Based on the above results, bootstrap vs frequentist statistical method, with a confidence level of 95%, temperatures below 98.12 and above 98.37 are considered abnormal."
   ]
  },
  {
   "cell_type": "markdown",
   "metadata": {},
   "source": [
    "# Question 6: Is there a significant difference between males and females in normal temperature?\n",
    "* What testing approach did you use and why?\n",
    "* Write a story with your conclusion in the context of the original problem."
   ]
  },
  {
   "cell_type": "markdown",
   "metadata": {},
   "source": [
    "## Hypothesis\n",
    "* Ho - there is no difference betweek males and females normal temperature\n",
    "* H1 - there is a difference betweek males and females normal temperature"
   ]
  },
  {
   "cell_type": "code",
   "execution_count": 128,
   "metadata": {},
   "outputs": [
    {
     "name": "stdout",
     "output_type": "stream",
     "text": [
      "65\n",
      "65\n"
     ]
    }
   ],
   "source": [
    "male = df[df.gender == 'M']\n",
    "female = df[df.gender == 'F']"
   ]
  },
  {
   "cell_type": "code",
   "execution_count": 132,
   "metadata": {},
   "outputs": [
    {
     "name": "stdout",
     "output_type": "stream",
     "text": [
      "Mean temperate for Male is 98.1046153846154\n",
      "Mean temperate for Female is 98.39384615384613\n"
     ]
    }
   ],
   "source": [
    "male_mean_temp = np.mean(male['temperature'])\n",
    "female_mean_temp = np.mean(female['temperature'])\n",
    "print('Mean temperate for Male is ' + str(male_mean_temp))\n",
    "print('Mean temperate for Female is ' + str(female_mean_temp))"
   ]
  },
  {
   "cell_type": "code",
   "execution_count": 133,
   "metadata": {},
   "outputs": [
    {
     "name": "stdout",
     "output_type": "stream",
     "text": [
      "Difference between female and male mean temperatures is: 0.289230769230727\n"
     ]
    }
   ],
   "source": [
    "# Calculate the difference of means\n",
    "difference_in_temp_means = female_mean_temp - male_mean_temp\n",
    "print('Difference between female and male mean temperatures is: ' + str(difference_in_temp_means))"
   ]
  },
  {
   "cell_type": "code",
   "execution_count": 135,
   "metadata": {},
   "outputs": [],
   "source": [
    "# Calculate the variance of the difference of means and the standard deviation\n",
    "variance_of_difference = np.var(male['temperature'])/len(male) + np.var(female['temperature'])/len(female)\n",
    "std_dev_of_difference = math.sqrt(variance_of_difference)"
   ]
  },
  {
   "cell_type": "code",
   "execution_count": 136,
   "metadata": {},
   "outputs": [
    {
     "name": "stdout",
     "output_type": "stream",
     "text": [
      "0.24613030301613179\n"
     ]
    }
   ],
   "source": [
    "# For a 95% confidence interval, the z-score is 1.96.\n",
    "p_value = 1.96 * std_dev_of_difference\n",
    "print(p_value)"
   ]
  },
  {
   "cell_type": "markdown",
   "metadata": {},
   "source": [
    "## Conclusion for Question 6\n",
    "Using a hypothesis significance testing with a confidence level of 95%, since the p-value is less than α of 5%, we need to reject the null hypothesis because there is a significant difference between the mean temperate between males and females."
   ]
  },
  {
   "cell_type": "code",
   "execution_count": null,
   "metadata": {},
   "outputs": [],
   "source": []
  },
  {
   "cell_type": "code",
   "execution_count": null,
   "metadata": {},
   "outputs": [],
   "source": []
  },
  {
   "cell_type": "code",
   "execution_count": null,
   "metadata": {},
   "outputs": [],
   "source": []
  },
  {
   "cell_type": "code",
   "execution_count": null,
   "metadata": {},
   "outputs": [],
   "source": []
  },
  {
   "cell_type": "code",
   "execution_count": null,
   "metadata": {},
   "outputs": [],
   "source": []
  }
 ],
 "metadata": {
  "kernelspec": {
   "display_name": "Python 3",
   "language": "python",
   "name": "python3"
  },
  "language_info": {
   "codemirror_mode": {
    "name": "ipython",
    "version": 3
   },
   "file_extension": ".py",
   "mimetype": "text/x-python",
   "name": "python",
   "nbconvert_exporter": "python",
   "pygments_lexer": "ipython3",
   "version": "3.6.5"
  }
 },
 "nbformat": 4,
 "nbformat_minor": 1
}
